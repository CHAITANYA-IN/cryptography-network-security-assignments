{
 "cells": [
  {
   "cell_type": "code",
   "execution_count": 6,
   "metadata": {},
   "outputs": [],
   "source": [
    "import numpy as np\n",
    "import sympy as sp\n",
    "import re"
   ]
  },
  {
   "cell_type": "code",
   "execution_count": 7,
   "metadata": {},
   "outputs": [],
   "source": [
    "plainText = input(\"Enter the message: \")\n",
    "key = input(\"Enter the key: \")"
   ]
  },
  {
   "cell_type": "code",
   "execution_count": 8,
   "metadata": {},
   "outputs": [
    {
     "name": "stdout",
     "output_type": "stream",
     "text": [
      "l= [5, 6, 1, 3, 18, 1, 18, 3, 5, 1, 18, 3]\n",
      "P= [[ 5  3 18  1]\n",
      " [ 6 18  3 18]\n",
      " [ 1  1  5  3]]\n",
      "K= [[21  3 18]\n",
      " [ 5  1 18]\n",
      " [ 3  5  1]]\n",
      "Cipher= [[25 20 17]\n",
      " [19 22 13]\n",
      " [13  9 16]\n",
      " [13 19  9]]\n",
      "zurtwnnjqntj\n"
     ]
    }
   ],
   "source": [
    "def encrypt(key, text):\n",
    "  l = [ord(i) - ord('a') for i in re.sub(r'[^\\.\\!\\,a-zA-Z]+', '', text.lower())]\n",
    "  print(\"l=\", l)\n",
    "  P = np.array([26 if x == -51 else 27 if x == -53 else 28 if x == -64 else x for x in l] + [23] * ((3 - len(l) % 3) % 3)).reshape(-1, 3).T\n",
    "  print(\"P=\", P)\n",
    "  K = np.array([ord(i) - ord('a') for i in key.lower()]).reshape(3, 3)\n",
    "  print(\"K=\", K)\n",
    "  print(\"Cipher=\", (K.dot(P) % 29).T)\n",
    "  return ''.join(['.' if i == 26 else ',' if i == 27 else '!' if i == 28 else chr(i + ord('a')) for i in (K.dot(P) % 29).T.reshape(-1)])\n",
    "\n",
    "cipher = encrypt(key, plainText)\n",
    "print(cipher)"
   ]
  },
  {
   "cell_type": "code",
   "execution_count": 9,
   "metadata": {},
   "outputs": [
    {
     "name": "stdout",
     "output_type": "stream",
     "text": [
      "[[ 0.06711916 -0.06561086 -0.02714932]\n",
      " [-0.03695324  0.02488688  0.21719457]\n",
      " [-0.01659125  0.07239819 -0.00452489]]\n"
     ]
    }
   ],
   "source": [
    "K = np.array([ord(i) - ord('a') for i in key.lower()]).reshape(3, 3)\n",
    "print(np.linalg.inv(K))"
   ]
  },
  {
   "cell_type": "code",
   "execution_count": 10,
   "metadata": {},
   "outputs": [
    {
     "name": "stdout",
     "output_type": "stream",
     "text": [
      "K_inv= [[0 12 6]\n",
      " [26 13 28]\n",
      " [27 19 20]]\n",
      "l= [0, 20, 3, 6, 2, 9, 21, 20, 5, 25, 13, 21, 9, 6, 2, 12, 8, 19]\n",
      "C= [[ 0  6 21 25  9 12]\n",
      " [20  2 20 13  6  8]\n",
      " [ 3  9  5 21  2 19]]\n",
      "Decipher= [[10 3 6]\n",
      " [16 0 8]\n",
      " [22 16 24]\n",
      " [3 12 9]\n",
      " [22 27 25]\n",
      " [24 18 19]]\n",
      ".zfu!djsdvpi.uuhup\n"
     ]
    }
   ],
   "source": [
    "def decrypt(key, cipher):\n",
    "  K_inv = np.array(sp.Matrix(np.array([ord(i) - ord('a') for i in key.lower()]).reshape(3, 3)).inv_mod(29))\n",
    "  print(\"K_inv=\", K_inv)\n",
    "  l = [ord(i) - ord('a') for i in re.sub(r'[^\\.\\!\\,\\#a-zA-Z]+', '', cipher.lower())]\n",
    "  print(\"l=\", l)\n",
    "  C = np.array([26 if x == -51 else 27 if x == -53 else 28 if x == -64 else x for x in l]).reshape(-1, 3).T\n",
    "  print(\"C=\", C)\n",
    "  print(\"Decipher=\", (K_inv.dot(C) % 31).T)\n",
    "  return ''.join(['.' if i == 26 else ',' if i == 27 else '!' if i == 28 else chr(i + ord('a')) for i in (K_inv.dot(C) % 29).T.reshape(-1)]).replace('#', '')\n",
    "\n",
    "print(decrypt(\"PLMNKOIJB\", \"AUDGCJVUFZNVJGCMIT\"))"
   ]
  },
  {
   "cell_type": "code",
   "execution_count": null,
   "metadata": {},
   "outputs": [],
   "source": []
  }
 ],
 "metadata": {
  "interpreter": {
   "hash": "aee8b7b246df8f9039afb4144a1f6fd8d2ca17a180786b69acc140d282b71a49"
  },
  "kernelspec": {
   "display_name": "Python 3.9.7 64-bit",
   "name": "python3"
  },
  "language_info": {
   "codemirror_mode": {
    "name": "ipython",
    "version": 3
   },
   "file_extension": ".py",
   "mimetype": "text/x-python",
   "name": "python",
   "nbconvert_exporter": "python",
   "pygments_lexer": "ipython3",
   "version": "3.9.7"
  },
  "orig_nbformat": 4
 },
 "nbformat": 4,
 "nbformat_minor": 2
}
